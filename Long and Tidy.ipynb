{
 "cells": [
  {
   "cell_type": "markdown",
   "metadata": {},
   "source": [
    "## Long and Tidy\n",
    "### Pandas function for returning a column in a tidy 'long' format "
   ]
  },
  {
   "cell_type": "code",
   "execution_count": 61,
   "metadata": {
    "collapsed": true
   },
   "outputs": [],
   "source": [
    "import pandas as pd\n",
    "import numpy as np"
   ]
  },
  {
   "cell_type": "markdown",
   "metadata": {},
   "source": [
    "Suppose you have a data set that has comma seperated values in one or more columns, and you need to clean up the data set such that each row has a unique value in the column, without affecting the other columns of the data set.This is useful, for example, if you need to plot or map values in a column. \n",
    "\n",
    "This function will seperate each value in the column, strip it of leading/trailing white space, append new row[s] containing each additional value with the information contained in the other columns duplicated, and finally, reindex the data set accordingly,  i.e. return a 'tidy' data set in a 'long' format."
   ]
  },
  {
   "cell_type": "code",
   "execution_count": 62,
   "metadata": {
    "collapsed": true
   },
   "outputs": [],
   "source": [
    "def tidy_long(df, col): \n",
    "    tidy_df = df.copy() #make a copy to ensure no changes are made to original df\n",
    "    column = tidy_df[col].str.split(',', expand=True) # splits the column by delimited strings\n",
    "    column = column.stack().str.strip() #returns a 'long' series of indexed strings, removing whitespace\n",
    "    column.index = column.index.droplevel(-1) #drops level to match the original df\n",
    "    column.name = col # provides a name to join\n",
    "    #column = pd.DataFrame(column) #converts to df for join\n",
    "    del tidy_df[col] #deletes original column to avoid conflict \n",
    "    tidy_df = tidy_df.join(column, how = 'inner')#returns a clean copy of the df \n",
    "    tidy_df.reset_index(drop=True, inplace=True)\n",
    "    return tidy_df"
   ]
  },
  {
   "cell_type": "code",
   "execution_count": 63,
   "metadata": {
    "collapsed": false
   },
   "outputs": [
    {
     "data": {
      "text/html": [
       "<div>\n",
       "<table border=\"1\" class=\"dataframe\">\n",
       "  <thead>\n",
       "    <tr style=\"text-align: right;\">\n",
       "      <th></th>\n",
       "      <th>advocacy</th>\n",
       "      <th>con</th>\n",
       "      <th>pro</th>\n",
       "    </tr>\n",
       "  </thead>\n",
       "  <tbody>\n",
       "    <tr>\n",
       "      <th>0</th>\n",
       "      <td>truckers</td>\n",
       "      <td>rubio</td>\n",
       "      <td>trump, sanders</td>\n",
       "    </tr>\n",
       "    <tr>\n",
       "      <th>1</th>\n",
       "      <td>nurses</td>\n",
       "      <td>clinton</td>\n",
       "      <td>sanders</td>\n",
       "    </tr>\n",
       "    <tr>\n",
       "      <th>2</th>\n",
       "      <td>lawyers</td>\n",
       "      <td>cruz, trump</td>\n",
       "      <td>clinton</td>\n",
       "    </tr>\n",
       "  </tbody>\n",
       "</table>\n",
       "</div>"
      ],
      "text/plain": [
       "   advocacy          con             pro\n",
       "0  truckers        rubio  trump, sanders\n",
       "1    nurses      clinton         sanders\n",
       "2   lawyers  cruz, trump         clinton"
      ]
     },
     "execution_count": 63,
     "metadata": {},
     "output_type": "execute_result"
    }
   ],
   "source": [
    "df = pd.DataFrame({'advocacy': ['truckers','nurses','lawyers'], \"pro\": ['trump, sanders', 'sanders', 'clinton'], \"con\": ['rubio','clinton','cruz, trump']})\n",
    "df"
   ]
  },
  {
   "cell_type": "code",
   "execution_count": 64,
   "metadata": {
    "collapsed": false
   },
   "outputs": [
    {
     "data": {
      "text/plain": [
       "(3, 3)"
      ]
     },
     "execution_count": 64,
     "metadata": {},
     "output_type": "execute_result"
    }
   ],
   "source": [
    "df.shape"
   ]
  },
  {
   "cell_type": "code",
   "execution_count": 73,
   "metadata": {
    "collapsed": false
   },
   "outputs": [
    {
     "name": "stdout",
     "output_type": "stream",
     "text": [
      "<class 'pandas.core.frame.DataFrame'>\n",
      "Int64Index: 3 entries, 0 to 2\n",
      "Data columns (total 3 columns):\n",
      "advocacy    3 non-null object\n",
      "con         3 non-null object\n",
      "pro         3 non-null object\n",
      "dtypes: object(3)\n",
      "memory usage: 96.0+ bytes\n"
     ]
    }
   ],
   "source": [
    "df.info()"
   ]
  },
  {
   "cell_type": "code",
   "execution_count": 65,
   "metadata": {
    "collapsed": false
   },
   "outputs": [
    {
     "data": {
      "text/html": [
       "<div>\n",
       "<table border=\"1\" class=\"dataframe\">\n",
       "  <thead>\n",
       "    <tr style=\"text-align: right;\">\n",
       "      <th></th>\n",
       "      <th>advocacy</th>\n",
       "      <th>pro</th>\n",
       "      <th>con</th>\n",
       "    </tr>\n",
       "  </thead>\n",
       "  <tbody>\n",
       "    <tr>\n",
       "      <th>0</th>\n",
       "      <td>truckers</td>\n",
       "      <td>trump, sanders</td>\n",
       "      <td>rubio</td>\n",
       "    </tr>\n",
       "    <tr>\n",
       "      <th>1</th>\n",
       "      <td>nurses</td>\n",
       "      <td>sanders</td>\n",
       "      <td>clinton</td>\n",
       "    </tr>\n",
       "    <tr>\n",
       "      <th>2</th>\n",
       "      <td>lawyers</td>\n",
       "      <td>clinton</td>\n",
       "      <td>cruz</td>\n",
       "    </tr>\n",
       "    <tr>\n",
       "      <th>3</th>\n",
       "      <td>lawyers</td>\n",
       "      <td>clinton</td>\n",
       "      <td>trump</td>\n",
       "    </tr>\n",
       "  </tbody>\n",
       "</table>\n",
       "</div>"
      ],
      "text/plain": [
       "   advocacy             pro      con\n",
       "0  truckers  trump, sanders    rubio\n",
       "1    nurses         sanders  clinton\n",
       "2   lawyers         clinton     cruz\n",
       "3   lawyers         clinton    trump"
      ]
     },
     "execution_count": 65,
     "metadata": {},
     "output_type": "execute_result"
    }
   ],
   "source": [
    "new_df = tidy_long(df, 'con')\n",
    "new_df"
   ]
  },
  {
   "cell_type": "code",
   "execution_count": 66,
   "metadata": {
    "collapsed": false
   },
   "outputs": [
    {
     "data": {
      "text/html": [
       "<div>\n",
       "<table border=\"1\" class=\"dataframe\">\n",
       "  <thead>\n",
       "    <tr style=\"text-align: right;\">\n",
       "      <th></th>\n",
       "      <th>advocacy</th>\n",
       "      <th>con</th>\n",
       "      <th>pro</th>\n",
       "    </tr>\n",
       "  </thead>\n",
       "  <tbody>\n",
       "    <tr>\n",
       "      <th>0</th>\n",
       "      <td>truckers</td>\n",
       "      <td>rubio</td>\n",
       "      <td>trump</td>\n",
       "    </tr>\n",
       "    <tr>\n",
       "      <th>1</th>\n",
       "      <td>truckers</td>\n",
       "      <td>rubio</td>\n",
       "      <td>sanders</td>\n",
       "    </tr>\n",
       "    <tr>\n",
       "      <th>2</th>\n",
       "      <td>nurses</td>\n",
       "      <td>clinton</td>\n",
       "      <td>sanders</td>\n",
       "    </tr>\n",
       "    <tr>\n",
       "      <th>3</th>\n",
       "      <td>lawyers</td>\n",
       "      <td>cruz, trump</td>\n",
       "      <td>clinton</td>\n",
       "    </tr>\n",
       "  </tbody>\n",
       "</table>\n",
       "</div>"
      ],
      "text/plain": [
       "   advocacy          con      pro\n",
       "0  truckers        rubio    trump\n",
       "1  truckers        rubio  sanders\n",
       "2    nurses      clinton  sanders\n",
       "3   lawyers  cruz, trump  clinton"
      ]
     },
     "execution_count": 66,
     "metadata": {},
     "output_type": "execute_result"
    }
   ],
   "source": [
    "new_df = tidy_long(df, 'pro')\n",
    "new_df"
   ]
  },
  {
   "cell_type": "code",
   "execution_count": 67,
   "metadata": {
    "collapsed": false
   },
   "outputs": [
    {
     "data": {
      "text/html": [
       "<div>\n",
       "<table border=\"1\" class=\"dataframe\">\n",
       "  <thead>\n",
       "    <tr style=\"text-align: right;\">\n",
       "      <th></th>\n",
       "      <th>advocacy</th>\n",
       "      <th>pro</th>\n",
       "      <th>con</th>\n",
       "    </tr>\n",
       "  </thead>\n",
       "  <tbody>\n",
       "    <tr>\n",
       "      <th>0</th>\n",
       "      <td>truckers</td>\n",
       "      <td>trump</td>\n",
       "      <td>rubio</td>\n",
       "    </tr>\n",
       "    <tr>\n",
       "      <th>1</th>\n",
       "      <td>truckers</td>\n",
       "      <td>sanders</td>\n",
       "      <td>rubio</td>\n",
       "    </tr>\n",
       "    <tr>\n",
       "      <th>2</th>\n",
       "      <td>nurses</td>\n",
       "      <td>sanders</td>\n",
       "      <td>clinton</td>\n",
       "    </tr>\n",
       "    <tr>\n",
       "      <th>3</th>\n",
       "      <td>lawyers</td>\n",
       "      <td>clinton</td>\n",
       "      <td>cruz</td>\n",
       "    </tr>\n",
       "    <tr>\n",
       "      <th>4</th>\n",
       "      <td>lawyers</td>\n",
       "      <td>clinton</td>\n",
       "      <td>trump</td>\n",
       "    </tr>\n",
       "  </tbody>\n",
       "</table>\n",
       "</div>"
      ],
      "text/plain": [
       "   advocacy      pro      con\n",
       "0  truckers    trump    rubio\n",
       "1  truckers  sanders    rubio\n",
       "2    nurses  sanders  clinton\n",
       "3   lawyers  clinton     cruz\n",
       "4   lawyers  clinton    trump"
      ]
     },
     "execution_count": 67,
     "metadata": {},
     "output_type": "execute_result"
    }
   ],
   "source": [
    "new_df2 = tidy_long(new_df, 'con')\n",
    "new_df2"
   ]
  },
  {
   "cell_type": "markdown",
   "metadata": {},
   "source": [
    "If you need to perform a similar operation on multiple columns, you can use the function in a for loop as follows: "
   ]
  },
  {
   "cell_type": "code",
   "execution_count": 68,
   "metadata": {
    "collapsed": false
   },
   "outputs": [],
   "source": [
    "col_list = ['pro', 'con']\n",
    "data = df\n",
    "result = ()\n",
    "for i in col_list: \n",
    "    tidy = tidy_long(data, i)\n",
    "    data = tidy"
   ]
  },
  {
   "cell_type": "code",
   "execution_count": 69,
   "metadata": {
    "collapsed": false
   },
   "outputs": [
    {
     "data": {
      "text/html": [
       "<div>\n",
       "<table border=\"1\" class=\"dataframe\">\n",
       "  <thead>\n",
       "    <tr style=\"text-align: right;\">\n",
       "      <th></th>\n",
       "      <th>advocacy</th>\n",
       "      <th>pro</th>\n",
       "      <th>con</th>\n",
       "    </tr>\n",
       "  </thead>\n",
       "  <tbody>\n",
       "    <tr>\n",
       "      <th>0</th>\n",
       "      <td>truckers</td>\n",
       "      <td>trump</td>\n",
       "      <td>rubio</td>\n",
       "    </tr>\n",
       "    <tr>\n",
       "      <th>1</th>\n",
       "      <td>truckers</td>\n",
       "      <td>sanders</td>\n",
       "      <td>rubio</td>\n",
       "    </tr>\n",
       "    <tr>\n",
       "      <th>2</th>\n",
       "      <td>nurses</td>\n",
       "      <td>sanders</td>\n",
       "      <td>clinton</td>\n",
       "    </tr>\n",
       "    <tr>\n",
       "      <th>3</th>\n",
       "      <td>lawyers</td>\n",
       "      <td>clinton</td>\n",
       "      <td>cruz</td>\n",
       "    </tr>\n",
       "    <tr>\n",
       "      <th>4</th>\n",
       "      <td>lawyers</td>\n",
       "      <td>clinton</td>\n",
       "      <td>trump</td>\n",
       "    </tr>\n",
       "  </tbody>\n",
       "</table>\n",
       "</div>"
      ],
      "text/plain": [
       "   advocacy      pro      con\n",
       "0  truckers    trump    rubio\n",
       "1  truckers  sanders    rubio\n",
       "2    nurses  sanders  clinton\n",
       "3   lawyers  clinton     cruz\n",
       "4   lawyers  clinton    trump"
      ]
     },
     "execution_count": 69,
     "metadata": {},
     "output_type": "execute_result"
    }
   ],
   "source": [
    "data"
   ]
  },
  {
   "cell_type": "code",
   "execution_count": 72,
   "metadata": {
    "collapsed": false
   },
   "outputs": [
    {
     "name": "stdout",
     "output_type": "stream",
     "text": [
      "<class 'pandas.core.frame.DataFrame'>\n",
      "Int64Index: 5 entries, 0 to 4\n",
      "Data columns (total 3 columns):\n",
      "advocacy    5 non-null object\n",
      "pro         5 non-null object\n",
      "con         5 non-null object\n",
      "dtypes: object(3)\n",
      "memory usage: 160.0+ bytes\n"
     ]
    }
   ],
   "source": [
    "data.info()"
   ]
  },
  {
   "cell_type": "markdown",
   "metadata": {},
   "source": [
    "### Preserve original index"
   ]
  },
  {
   "cell_type": "markdown",
   "metadata": {},
   "source": [
    "NOTE: The goal here is to get a new 'tidy' data set. So it's important to note that the index is reset 'in place' accordingly. If you prefer to keep the original index alongside the new, simply reset_index before retruning the new dataframe without including the (drop=True, inplace=True) parameters, as follows: "
   ]
  },
  {
   "cell_type": "code",
   "execution_count": 83,
   "metadata": {
    "collapsed": true
   },
   "outputs": [],
   "source": [
    "def tidy_long_ikeep(df, col): \n",
    "    tidy_df = df.copy() #make a copy to ensure no changes are made to original df\n",
    "    column = tidy_df[col].str.split(',', expand=True) # splits the column by delimited strings\n",
    "    column = column.stack().str.strip() #returns a 'long' series of indexed strings, removing whitespace\n",
    "    column.index = column.index.droplevel(-1) #drops level to match the original df\n",
    "    column.name = col # provides a name to join\n",
    "    #column = pd.DataFrame(column) #converts to df for join\n",
    "    del tidy_df[col] #deletes original column to avoid conflict \n",
    "    tidy_df = tidy_df.join(column, how = 'inner').reset_index()#returns a clean copy of the df, with the original index preserved\n",
    "    return tidy_df"
   ]
  },
  {
   "cell_type": "code",
   "execution_count": 84,
   "metadata": {
    "collapsed": false
   },
   "outputs": [
    {
     "data": {
      "text/html": [
       "<div>\n",
       "<table border=\"1\" class=\"dataframe\">\n",
       "  <thead>\n",
       "    <tr style=\"text-align: right;\">\n",
       "      <th></th>\n",
       "      <th>index</th>\n",
       "      <th>advocacy</th>\n",
       "      <th>pro</th>\n",
       "      <th>con</th>\n",
       "    </tr>\n",
       "  </thead>\n",
       "  <tbody>\n",
       "    <tr>\n",
       "      <th>0</th>\n",
       "      <td>0</td>\n",
       "      <td>truckers</td>\n",
       "      <td>trump, sanders</td>\n",
       "      <td>rubio</td>\n",
       "    </tr>\n",
       "    <tr>\n",
       "      <th>1</th>\n",
       "      <td>1</td>\n",
       "      <td>nurses</td>\n",
       "      <td>sanders</td>\n",
       "      <td>clinton</td>\n",
       "    </tr>\n",
       "    <tr>\n",
       "      <th>2</th>\n",
       "      <td>2</td>\n",
       "      <td>lawyers</td>\n",
       "      <td>clinton</td>\n",
       "      <td>cruz</td>\n",
       "    </tr>\n",
       "    <tr>\n",
       "      <th>3</th>\n",
       "      <td>2</td>\n",
       "      <td>lawyers</td>\n",
       "      <td>clinton</td>\n",
       "      <td>trump</td>\n",
       "    </tr>\n",
       "  </tbody>\n",
       "</table>\n",
       "</div>"
      ],
      "text/plain": [
       "   index  advocacy             pro      con\n",
       "0      0  truckers  trump, sanders    rubio\n",
       "1      1    nurses         sanders  clinton\n",
       "2      2   lawyers         clinton     cruz\n",
       "3      2   lawyers         clinton    trump"
      ]
     },
     "execution_count": 84,
     "metadata": {},
     "output_type": "execute_result"
    }
   ],
   "source": [
    "new_df = tidy_long_ikeep(df, 'con')\n",
    "new_df"
   ]
  },
  {
   "cell_type": "markdown",
   "metadata": {},
   "source": [
    "Note: this will add index columns with each application, and so it is not preferred. "
   ]
  },
  {
   "cell_type": "code",
   "execution_count": 87,
   "metadata": {
    "collapsed": true
   },
   "outputs": [],
   "source": [
    "col_list = ['pro', 'con']\n",
    "data = df\n",
    "result = ()\n",
    "for i in col_list: \n",
    "    tidy = tidy_long_ikeep(data, i)\n",
    "    data = tidy"
   ]
  },
  {
   "cell_type": "code",
   "execution_count": 88,
   "metadata": {
    "collapsed": false
   },
   "outputs": [
    {
     "data": {
      "text/html": [
       "<div>\n",
       "<table border=\"1\" class=\"dataframe\">\n",
       "  <thead>\n",
       "    <tr style=\"text-align: right;\">\n",
       "      <th></th>\n",
       "      <th>level_0</th>\n",
       "      <th>index</th>\n",
       "      <th>advocacy</th>\n",
       "      <th>pro</th>\n",
       "      <th>con</th>\n",
       "    </tr>\n",
       "  </thead>\n",
       "  <tbody>\n",
       "    <tr>\n",
       "      <th>0</th>\n",
       "      <td>0</td>\n",
       "      <td>0</td>\n",
       "      <td>truckers</td>\n",
       "      <td>trump</td>\n",
       "      <td>rubio</td>\n",
       "    </tr>\n",
       "    <tr>\n",
       "      <th>1</th>\n",
       "      <td>1</td>\n",
       "      <td>0</td>\n",
       "      <td>truckers</td>\n",
       "      <td>sanders</td>\n",
       "      <td>rubio</td>\n",
       "    </tr>\n",
       "    <tr>\n",
       "      <th>2</th>\n",
       "      <td>2</td>\n",
       "      <td>1</td>\n",
       "      <td>nurses</td>\n",
       "      <td>sanders</td>\n",
       "      <td>clinton</td>\n",
       "    </tr>\n",
       "    <tr>\n",
       "      <th>3</th>\n",
       "      <td>3</td>\n",
       "      <td>2</td>\n",
       "      <td>lawyers</td>\n",
       "      <td>clinton</td>\n",
       "      <td>cruz</td>\n",
       "    </tr>\n",
       "    <tr>\n",
       "      <th>4</th>\n",
       "      <td>3</td>\n",
       "      <td>2</td>\n",
       "      <td>lawyers</td>\n",
       "      <td>clinton</td>\n",
       "      <td>trump</td>\n",
       "    </tr>\n",
       "  </tbody>\n",
       "</table>\n",
       "</div>"
      ],
      "text/plain": [
       "   level_0  index  advocacy      pro      con\n",
       "0        0      0  truckers    trump    rubio\n",
       "1        1      0  truckers  sanders    rubio\n",
       "2        2      1    nurses  sanders  clinton\n",
       "3        3      2   lawyers  clinton     cruz\n",
       "4        3      2   lawyers  clinton    trump"
      ]
     },
     "execution_count": 88,
     "metadata": {},
     "output_type": "execute_result"
    }
   ],
   "source": [
    "data"
   ]
  }
 ],
 "metadata": {
  "kernelspec": {
   "display_name": "Python 2",
   "language": "python",
   "name": "python2"
  },
  "language_info": {
   "codemirror_mode": {
    "name": "ipython",
    "version": 2
   },
   "file_extension": ".py",
   "mimetype": "text/x-python",
   "name": "python",
   "nbconvert_exporter": "python",
   "pygments_lexer": "ipython2",
   "version": "2.7.10"
  }
 },
 "nbformat": 4,
 "nbformat_minor": 0
}
