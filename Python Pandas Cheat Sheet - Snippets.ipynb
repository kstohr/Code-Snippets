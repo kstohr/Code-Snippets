{
 "cells": [
  {
   "cell_type": "markdown",
   "metadata": {},
   "source": [
    "##  Cheat Sheet -  Python Snippets "
   ]
  },
  {
   "cell_type": "code",
   "execution_count": null,
   "metadata": {
    "collapsed": true
   },
   "outputs": [],
   "source": [
    "#change the dtype of a column variable \n",
    "memes[\"pro\"] = memes[\"pro\"].astype('category')"
   ]
  },
  {
   "cell_type": "code",
   "execution_count": null,
   "metadata": {
    "collapsed": true
   },
   "outputs": [],
   "source": [
    "#subset df based on row values in a column.  \n",
    "test = memes[memes['pro'] == 'sanders']"
   ]
  },
  {
   "cell_type": "code",
   "execution_count": null,
   "metadata": {
    "collapsed": true
   },
   "outputs": [],
   "source": [
    "#drop multiple columns by name\n",
    "drop = ('Unnamed: 22', 'Unnamed: 23', 'Unnamed: 24', 'Unnamed: 25')\n",
    "for i in drop:\n",
    "    data.pop(i)"
   ]
  },
  {
   "cell_type": "code",
   "execution_count": null,
   "metadata": {
    "collapsed": true
   },
   "outputs": [],
   "source": [
    "#check for NA vals\n",
    "null_vals = df[df.members_summary_total_count.isnull()]\n",
    "len(null_vals)"
   ]
  },
  {
   "cell_type": "code",
   "execution_count": null,
   "metadata": {
    "collapsed": true
   },
   "outputs": [],
   "source": [
    "#drop rows that have NaN values in a particular column\n",
    "memes = memes.dropna(subset=['members_summary_total_count'])\n",
    "len(memes)"
   ]
  },
  {
   "cell_type": "code",
   "execution_count": null,
   "metadata": {
    "collapsed": true
   },
   "outputs": [],
   "source": [
    "#groupby function which returns a forced table from a multilevel index\n",
    "lat_sum = lat.groupby('candidate', as_index=False)['members_summary_total_count'].sum()"
   ]
  },
  {
   "cell_type": "code",
   "execution_count": null,
   "metadata": {
    "collapsed": true
   },
   "outputs": [],
   "source": [
    "#groupby function with custom apply\n",
    "#adds a column to which some new data is added/computed by group. \n",
    "def ranker(df):\n",
    "    df['rank'] = df.members_summary_total_count.rank(method = 'dense')\n",
    "    return df\n",
    "\n",
    "#Apply the ranker function on each group separately:\n",
    "\n",
    "by_candidate = memes.groupby(['pro']).apply(ranker)\n",
    "by_candidate"
   ]
  },
  {
   "cell_type": "markdown",
   "metadata": {},
   "source": [
    "## Plotting"
   ]
  },
  {
   "cell_type": "code",
   "execution_count": null,
   "metadata": {
    "collapsed": true
   },
   "outputs": [],
   "source": [
    "import pandas as pd\n",
    "import random\n",
    "from ggplot import *\n",
    "import plotly \n",
    "import matplotlib.pyplot as plt\n",
    "import plotly.plotly as py\n",
    "import plotly.graph_objs as go\n",
    "from plotly.graph_objs import *\n",
    "from plotly.offline import download_plotlyjs, init_notebook_mode, iplot\n",
    "import plotly.tools as tls\n",
    "import cufflinks as cf\n",
    "from datetime import datetime\n",
    "from datetime import time as dt_tm\n",
    "from datetime import date as dt_date\n",
    "from IPython.display import HTML"
   ]
  },
  {
   "cell_type": "code",
   "execution_count": null,
   "metadata": {
    "collapsed": true
   },
   "outputs": [],
   "source": [
    "#plotly api credentials\n",
    "py.sign_in(\"kstohr\", \"vb1uelvzwe\")"
   ]
  },
  {
   "cell_type": "code",
   "execution_count": null,
   "metadata": {
    "collapsed": true
   },
   "outputs": [],
   "source": [
    "#set inline plotting\n",
    "%matplotlib inline\n",
    "plotly.offline.init_notebook_mode()\n",
    "#plot matplot plots with plotly\n",
    "mpl_fig_obj = plt.figure()"
   ]
  },
  {
   "cell_type": "code",
   "execution_count": null,
   "metadata": {
    "collapsed": true
   },
   "outputs": [],
   "source": [
    "#quick bubble graph\n",
    "cf.set_config_file(offline=False, world_readable=True, theme='pearl')\n",
    "df.iplot(kind='bubble', y='name', x='members_summary_total_count',\n",
    "              size='members_summary_total_count', \n",
    "              text=(['members_summary_total_count']), title='Grassroots Support for Presidential Candidates on Facebook',\n",
    "              yTitle ='All Facebook Groups', xTitle='Number of Facebook Group Members',\n",
    "              filename='facebook_groups/all-candidates-bubble-chart')"
   ]
  },
  {
   "cell_type": "code",
   "execution_count": null,
   "metadata": {
    "collapsed": true
   },
   "outputs": [],
   "source": []
  }
 ],
 "metadata": {
  "kernelspec": {
   "display_name": "Python 2",
   "language": "python",
   "name": "python2"
  },
  "language_info": {
   "codemirror_mode": {
    "name": "ipython",
    "version": 2
   },
   "file_extension": ".py",
   "mimetype": "text/x-python",
   "name": "python",
   "nbconvert_exporter": "python",
   "pygments_lexer": "ipython2",
   "version": "2.7.10"
  }
 },
 "nbformat": 4,
 "nbformat_minor": 0
}
